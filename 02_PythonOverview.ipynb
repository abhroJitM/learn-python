{
  "nbformat": 4,
  "nbformat_minor": 0,
  "metadata": {
    "colab": {
      "provenance": [],
      "authorship_tag": "ABX9TyMZ2ZM7ssU9ooAyWuBnfB5Q",
      "include_colab_link": true
    },
    "kernelspec": {
      "name": "python3",
      "display_name": "Python 3"
    },
    "language_info": {
      "name": "python"
    }
  },
  "cells": [
    {
      "cell_type": "markdown",
      "metadata": {
        "id": "view-in-github",
        "colab_type": "text"
      },
      "source": [
        "<a href=\"https://colab.research.google.com/github/mrArpanM/learn-python/blob/main/02_PythonOverview.ipynb\" target=\"_parent\"><img src=\"https://colab.research.google.com/assets/colab-badge.svg\" alt=\"Open In Colab\"/></a>"
      ]
    },
    {
      "cell_type": "markdown",
      "source": [
        "# Python Overview\n",
        "\n",
        "We'll start with the code we've written in the introductory module.\n",
        "\n",
        "It was:\n",
        "\n",
        "\n",
        "```\n",
        "print(\"Hello, World!\")\n",
        "```\n",
        "\n",
        "Here we are using the \"print\" function to print the line \"Hello, World!\".\n",
        "\n",
        "*You may have the question, what is a function?We'll come back to that, when we'll be writing our own functions.Now, solve this exercise first*"
      ],
      "metadata": {
        "id": "ZgfG5spfS7cv"
      }
    },
    {
      "cell_type": "markdown",
      "source": [
        "❓ Q1. Use the `print` function to print the line \"My name is {Your Name}!\".\n",
        "\n",
        "⚒ Solve by replacing the name \"Ram\" with your name."
      ],
      "metadata": {
        "id": "nXT6-rZ-UHye"
      }
    },
    {
      "cell_type": "code",
      "execution_count": 14,
      "metadata": {
        "id": "3Ha6vVjnKN2s",
        "colab": {
          "base_uri": "https://localhost:8080/"
        },
        "outputId": "629fe83c-4c8b-4e18-e2f6-2512b258ea42"
      },
      "outputs": [
        {
          "output_type": "stream",
          "name": "stdout",
          "text": [
            "My name is Ram\n"
          ]
        }
      ],
      "source": [
        "# For example, if your name is Ram.\n",
        "print(\"My name is Ram\")"
      ]
    },
    {
      "cell_type": "markdown",
      "source": [
        "## Declaring Variables\n",
        "\n",
        "⚒ Declare a integer variable for the whole number 5 & use the `print` function to print the integer."
      ],
      "metadata": {
        "id": "_b0kvt7CVQSl"
      }
    },
    {
      "cell_type": "code",
      "source": [
        "# Declare the int\n",
        "int= 5\n",
        "\n",
        "# Print the int\n",
        "print(int)"
      ],
      "metadata": {
        "colab": {
          "base_uri": "https://localhost:8080/"
        },
        "id": "qiIs-PF0Xvqo",
        "outputId": "380eab05-54cb-4e3d-db51-00b9416fddcc"
      },
      "execution_count": 4,
      "outputs": [
        {
          "output_type": "stream",
          "name": "stdout",
          "text": [
            "5\n"
          ]
        }
      ]
    },
    {
      "cell_type": "markdown",
      "source": [
        "**Python also support float number**\n",
        "\n",
        "⚒ Declare a float variable for the decimal number 4.5 & use the `print` function to print the integer."
      ],
      "metadata": {
        "id": "mRc0IZomZL46"
      }
    },
    {
      "cell_type": "code",
      "source": [
        "# Declare the float\n",
        "float= 4.5\n",
        "\n",
        "# Print the int\n",
        "print(float)"
      ],
      "metadata": {
        "colab": {
          "base_uri": "https://localhost:8080/"
        },
        "outputId": "0eeea2f5-aea9-4781-ef9f-07a0bb536b40",
        "id": "MxevunquZ-YU"
      },
      "execution_count": 6,
      "outputs": [
        {
          "output_type": "stream",
          "name": "stdout",
          "text": [
            "4.5\n"
          ]
        }
      ]
    },
    {
      "cell_type": "markdown",
      "source": [
        "**We'll play with numbers in the next module, let's just do a addition and a product for now**\n",
        "\n",
        "⚒ Declare a integer of value 10 and a float of value 5.0 & print their sum and product."
      ],
      "metadata": {
        "id": "d_XGdY4tbMEa"
      }
    },
    {
      "cell_type": "code",
      "source": [
        "# Declare the int\n",
        "int= 10\n",
        "float = 5.0\n",
        "\n",
        "#Calculate the product\n",
        "sum = int+float\n",
        "\n",
        "# Print the product\n",
        "print(\"The sum is:\")\n",
        "print(sum)\n",
        "\n",
        "# Or print the product directly in a single step\n",
        "print(\"The product is:\")\n",
        "print(int*float)"
      ],
      "metadata": {
        "colab": {
          "base_uri": "https://localhost:8080/"
        },
        "outputId": "8778cf36-e4dd-4c4f-9849-c822b483d8a5",
        "id": "G1GDDlZ5aoo1"
      },
      "execution_count": 13,
      "outputs": [
        {
          "output_type": "stream",
          "name": "stdout",
          "text": [
            "The sum is:\n",
            "15.0\n",
            "The product is:\n",
            "50.0\n"
          ]
        }
      ]
    },
    {
      "cell_type": "markdown",
      "source": [
        "### You can also declare a sentence/words(string of charectors)\n",
        "\n",
        "Solve this problem.\n",
        "\n",
        "❓Declare a `string` with {your name} as value.\n",
        "\n",
        "⚒ Solve by replacing the name \"Ram\" with your name."
      ],
      "metadata": {
        "id": "peWKsPlZc1KO"
      }
    },
    {
      "cell_type": "code",
      "source": [
        "#Declare the string for someone whose name is Ram\n",
        "str= \"Ram\"\n",
        "\n",
        "print(\"My name is \"+ str )"
      ],
      "metadata": {
        "colab": {
          "base_uri": "https://localhost:8080/"
        },
        "id": "zT4WrEYVfach",
        "outputId": "c66f6559-e12f-40d3-8034-1d197ea1b027"
      },
      "execution_count": 16,
      "outputs": [
        {
          "output_type": "stream",
          "name": "stdout",
          "text": [
            "My name is Ram\n"
          ]
        }
      ]
    },
    {
      "cell_type": "markdown",
      "source": [
        "### Let's make is more interesting...\n",
        "\n",
        "⚒ Ask for the name from the user by using the `input` function and the greet them as \"Welcome, {user's name}!\" by using the `print` function."
      ],
      "metadata": {
        "id": "7XI1jVOxgA_0"
      }
    },
    {
      "cell_type": "code",
      "source": [
        "# Ask for the users name\n",
        "str = input(\"You're name is: \")\n",
        "\n",
        "# Greet the user\n",
        "print(\"Welcome, \" + str + \"!\")"
      ],
      "metadata": {
        "colab": {
          "base_uri": "https://localhost:8080/"
        },
        "id": "bpjPmM6Ggvi2",
        "outputId": "e2818b23-b105-4f7a-9bb8-161f6cc1cb31"
      },
      "execution_count": 20,
      "outputs": [
        {
          "output_type": "stream",
          "name": "stdout",
          "text": [
            "You're name is: Ram Chandra\n",
            "Welcome, Ram Chandra!\n"
          ]
        }
      ]
    },
    {
      "cell_type": "markdown",
      "source": [
        "### ⚠ Did you noticed ?\n",
        "\n",
        "When you declare numbers(integers or float), you can simply assign it to a variable without getting any error.\n",
        "\n",
        "```\n",
        "int = 5\n",
        "float = 10.0\n",
        "\n",
        "```\n",
        "But when you are trying to declare a string,\n",
        "\n",
        "❎ You cannot do that, you'll get an error.\n",
        "```\n",
        "str = ram\n",
        "```\n",
        "✅ You have to use apostrophe,then it's fine.\n",
        "```\n",
        "str = \"ram\"\n",
        "```\n",
        "\n",
        "\n",
        "\n",
        "\n",
        "\n"
      ],
      "metadata": {
        "id": "YT29Q0ChiU0-"
      }
    },
    {
      "cell_type": "code",
      "source": [
        "# Try these here\n",
        "str = ram\n",
        "\n",
        "# str = \"ram\"\n",
        "\n",
        "print(str)"
      ],
      "metadata": {
        "colab": {
          "base_uri": "https://localhost:8080/"
        },
        "id": "GxOjiE3Fjb80",
        "outputId": "1564597d-0b2f-4724-a6c1-f92821bce098"
      },
      "execution_count": 26,
      "outputs": [
        {
          "output_type": "stream",
          "name": "stdout",
          "text": [
            "ram\n"
          ]
        }
      ]
    },
    {
      "cell_type": "markdown",
      "source": [
        "### ⚠ Other issues.\n",
        "\n",
        "✅ You can do this:\n",
        "```\n",
        "int = 5\n",
        "float = 10.0\n",
        "print(int+float)\n",
        "```\n",
        "❎ You cannot do this:\n",
        "\n",
        "```\n",
        "int = 4\n",
        "str = \"8\"\n",
        "print(int+str)\n",
        "```"
      ],
      "metadata": {
        "id": "cmCImR4WllO7"
      }
    },
    {
      "cell_type": "code",
      "source": [
        "#You get an type error when you are trying to add string with int or float, try here.\n",
        "int = 5\n",
        "str = \"5\"\n",
        "\n",
        "print(str + int )\n",
        "\n",
        "# print(str, int)"
      ],
      "metadata": {
        "id": "to18x5tFioQh"
      },
      "execution_count": null,
      "outputs": []
    },
    {
      "cell_type": "markdown",
      "source": [
        "### **This is the python syntax.**\n",
        "\n",
        "Just like you cannot add a word with a number, in python you cannot add strings with numbers(integers/floats).\n",
        "\n",
        "When we assign some value to a variable inside single/double quotation,like:\n",
        "\n",
        "```\n",
        "str = \"some string value\"\n",
        "```\n",
        "Python assumes it as a string. We'll discuss why later.\n",
        "\n",
        "**A string can be any charector or digits.**\n",
        "\n",
        "So, when we write:\n",
        "\n",
        "```\n",
        "str = \"5\"\n",
        "```\n",
        "Here, 5 is not an integer but a string, that's why in the above example we get an `TypeError`.\n",
        "\n",
        "*Now before you ask what does `TypeError` mean and what the heck is type in python, I would like you to rosolve the above issues by yourself.*"
      ],
      "metadata": {
        "id": "tHzXdu1u3L0Z"
      }
    },
    {
      "cell_type": "markdown",
      "source": [
        "## **Data Types in python**\n",
        "\n",
        "In Python, like in all programming languages, data types are used to classify one particular type of data. This is important because the specific data type you use will determine what values you can assign to it and what you can do to it (including what operations you can perform on it).\n",
        "\n",
        "**Python has the following data types built-in by default, in these categories:**\n",
        "\n",
        "| Categories | Data Type|\n",
        "|:---:|:---:|\n",
        "| Text Type | str |\n",
        "| Numeric Types |\tint, float, complex|\n",
        "| Sequence Types |\tlist, tuple, range|\n",
        "| Mapping Type |\tdict|\n",
        "| Set Types |\tset, frozenset|\n",
        "| Boolean Type |\tbool|\n",
        "| Binary Types |\tbytes, bytearray, memoryview|\n",
        "| None Type |\tNone |\n",
        "\n",
        "### Commonly used data types\n",
        "\n",
        "---\n",
        "\n",
        "\n",
        "\n",
        "*  String (str)\n",
        "*  Number (int, float )\n",
        "*  Array (list)\n",
        "*  Dictionary (dict)\n",
        "*  Boolean (bool)\n",
        "\n"
      ],
      "metadata": {
        "id": "eXU3oaVg72_8"
      }
    },
    {
      "cell_type": "code",
      "source": [
        "# String (str)\n",
        "foo = \"Hello world\"\n",
        "\n",
        "# You can print the data types by using the function type, like this...\n",
        "print(type(foo))"
      ],
      "metadata": {
        "colab": {
          "base_uri": "https://localhost:8080/"
        },
        "id": "fwxaJHD87w43",
        "outputId": "e9278718-e19c-492b-a4d7-996ba58e94b5"
      },
      "execution_count": 5,
      "outputs": [
        {
          "output_type": "stream",
          "name": "stdout",
          "text": [
            "<class 'str'>\n"
          ]
        }
      ]
    },
    {
      "cell_type": "code",
      "source": [
        "# Number (int)\n",
        "foo = 8\n",
        "\n",
        "# Number (float)\n",
        "bar = 7.0\n",
        "\n",
        "# You can print the data types by using the function type, like this...\n",
        "print(type(foo))\n",
        "print(type(bar))"
      ],
      "metadata": {
        "colab": {
          "base_uri": "https://localhost:8080/"
        },
        "id": "8OBeXc-1-4Ca",
        "outputId": "54a9e826-3b14-43ff-d12d-b7d3cfc62e6e"
      },
      "execution_count": 6,
      "outputs": [
        {
          "output_type": "stream",
          "name": "stdout",
          "text": [
            "<class 'int'>\n",
            "<class 'float'>\n"
          ]
        }
      ]
    },
    {
      "cell_type": "code",
      "source": [
        "# Array (list)\n",
        "foo = [\"apple\", \"banana\", \"cherry\"]\n",
        "\n",
        "# You can print the data types by using the function type, like this...\n",
        "print(type(foo))"
      ],
      "metadata": {
        "colab": {
          "base_uri": "https://localhost:8080/"
        },
        "id": "S9JLkcMHApnX",
        "outputId": "2e6bb785-57cc-4b96-a4b1-e2e13b05de22"
      },
      "execution_count": 8,
      "outputs": [
        {
          "output_type": "stream",
          "name": "stdout",
          "text": [
            "<class 'list'>\n"
          ]
        }
      ]
    },
    {
      "cell_type": "code",
      "source": [
        "# Boolean (bool)\n",
        "foo = True\n",
        "\n",
        "# You can print the data types by using the function type, like this...\n",
        "print(type(foo))"
      ],
      "metadata": {
        "colab": {
          "base_uri": "https://localhost:8080/"
        },
        "id": "0qZ_FeKHAPG2",
        "outputId": "1117f800-d6a0-45b0-babb-2f8420abd7e0"
      },
      "execution_count": 7,
      "outputs": [
        {
          "output_type": "stream",
          "name": "stdout",
          "text": [
            "<class 'bool'>\n"
          ]
        }
      ]
    },
    {
      "cell_type": "code",
      "source": [
        "# Object Notation/Dictionary (dict)\n",
        "foo = {\"name\" : \"John\", \"age\" : 36}\n",
        "\n",
        "# You can print the data types by using the function type, like this...\n",
        "print(type(foo))"
      ],
      "metadata": {
        "colab": {
          "base_uri": "https://localhost:8080/"
        },
        "id": "MGbnVzMCAhnN",
        "outputId": "07c853bc-b9b7-4ba7-f4fe-08ac737c4e4f"
      },
      "execution_count": 13,
      "outputs": [
        {
          "output_type": "stream",
          "name": "stdout",
          "text": [
            "<class 'dict'>\n"
          ]
        }
      ]
    },
    {
      "cell_type": "markdown",
      "source": [
        "Play with this data types to get familiar with these data types, we'll learn more about this when we'll be using it.\n",
        "\n",
        "**In the next module we'll learn about how to think algorithmically, by learning vedic maths.I promise it'll not be boring maths that you did in your junior classes, it'll be fun & You'll learn to do calculations even faster than when you're using calculator.**"
      ],
      "metadata": {
        "id": "2Qpr0_OtCFqk"
      }
    }
  ]
}